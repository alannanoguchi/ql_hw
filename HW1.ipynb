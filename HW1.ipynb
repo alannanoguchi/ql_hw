{
 "cells": [
  {
   "cell_type": "markdown",
   "metadata": {},
   "source": [
    "# HW1 - Covariance Matrix\n",
    "\n",
    "**Covariance** is used to measure how two random variables change or vary together. For example, the height and weight of giraffes have a positive covariance because when one is big, the other tends to also be big.\n",
    "\n",
    "_In this assignment, we will calculate the **covariance matrix** for a given dataset._\n",
    "\n",
    "This assignment will consist of two parts:\n",
    "\n",
    "## Part 1\n",
    "\n",
    "**IMPORTANT NOTE:** in the video, the equation he uses has $n$ as the denominator, but when he calculates covariance values, he's using $n-1$ as the denominator. _For our purposes, we will be using $n-1$ as the denominator._\n",
    "\n",
    "Watch this video on covariance matrices: https://www.youtube.com/watch?v=0GzMcUy7ZI0\n",
    "\n",
    "Mathematically, we can represent Covariance as such:\n",
    "\n",
    "$Cov(X,Y)=1/(n-1) \\sum_{i=1}^{n}(x[i] - \\bar{x})(y[i] - \\bar{y})$\n",
    "\n",
    "Where $n$ is the number of elements in arrays $x$ and $y$\n",
    "\n",
    "## Part 2\n",
    "\n",
    "Write a Python function that returns the covariance matrix for a given dataset, just like we watched in the video or any other dataset of your choosing. Below are various places you can get datasets from:\n",
    "\n",
    "### Dataset Resources\n",
    "\n",
    "- [Kaggle](https://www.kaggle.com/datasets)\n",
    "- [Fivethirtyeight](https://github.com/fivethirtyeight/data)\n",
    "- [Buzzfeed News](https://github.com/BuzzFeedNews/everything)\n",
    "- [Google Cloud BigQuery Public Datasets](https://cloud.google.com/bigquery/public-data/)\n",
    "- [Wikipedia](https://en.wikipedia.org/wiki/Wikipedia:Database_download)\n",
    "- Can't find anything from above? Google around until you do!\n",
    "\n",
    "## Part 3\n",
    "\n",
    "Use [numpy's var function](https://docs.scipy.org/doc/numpy/reference/generated/numpy.var.html) to confirm that the covariance between a variable and itself is the same as the variance of the variable.\n",
    "\n",
    "For example, assuming your covariance function is named `cov`, ensure that the following is true: `cov(X, X) == np.var(X)`\n",
    "\n",
    "### Hints\n",
    "\n",
    "1. Obtain the covariance between columns $x$ and $y$, between columns $x$ and $z$, and columns $y$ and $z$\n",
    "1. The covariance between columns $x$ and $y$ is the same as the covariance between columns $y$ and $x$. _We can generalize this for any two columns_\n",
    "1. Show that the covariance between columns $x$ and $x$ is equal to the variance of column $x$. _We can generalize this for any other column_\n",
    "\n",
    "## Testing Your Code\n",
    "\n",
    "Verify your code with numpy built-in `np.cov()` function as follows:"
   ]
  },
  {
   "cell_type": "code",
   "execution_count": 80,
   "metadata": {},
   "outputs": [
    {
     "name": "stdout",
     "output_type": "stream",
     "text": [
      "[[0.         0.         0.        ]\n",
      " [0.         1.66666667 1.16666667]\n",
      " [0.         1.16666667 0.91666667]]\n"
     ]
    }
   ],
   "source": [
    "import numpy as np\n",
    "\n",
    "def cov_matrix_calculation(data):\n",
    "    # calculate covariance matrix of the data\n",
    "    cov_matx = np.cov(data.T)\n",
    "    return cov_matx\n",
    "\n",
    "dataset = np.array([[1, 1, 1], [1, 2, 1], [1, 3, 2], [1, 4, 3]])\n",
    "print(cov_matrix_calculation(dataset))\n"
   ]
  },
  {
   "cell_type": "markdown",
   "metadata": {},
   "source": [
    "# Requirements\n",
    "\n",
    "To pass this HW, you must meet the following requirements\n",
    "\n",
    "1. Your function should return the covariance between 6 pairs of random variables: $(X,Y), (X, Z), (Y, Z), (X, X), (Y, Y), and (Z, Z)$\n",
    "1. Verify that your function's return value is correct by using `np.cov(DATA)` where `DATA` is the return value of your covariance function\n",
    "1. Verify that your covariance function for each variable with itself returns the same value as `np.var` of that variable\n",
    "\n",
    "## Stretch Challenges\n",
    "\n",
    "These are optional challenges for those who want to further expand their skillset:\n",
    "\n",
    "1. Your function should display the covariance in a matrix format"
   ]
  },
  {
   "cell_type": "code",
   "execution_count": 131,
   "metadata": {},
   "outputs": [
    {
     "name": "stdout",
     "output_type": "stream",
     "text": [
      "Matrix of data: \n",
      "[[ 3.9  1.1  0.1]\n",
      " [ 8.5  3.4  0.1]\n",
      " [18.1  8.7  0.1]\n",
      " [29.2 14.5  0.5]]\n",
      "\n",
      "Covariance: \n",
      "[[125.6  66.9   1.9]\n",
      " [ 66.9  35.6   1. ]\n",
      " [  1.9   1.    0. ]]\n",
      "\n",
      "This is the x column: [ 3.9  8.5 18.1 29.2]\n",
      "This is cov(x,x): 125.6\n",
      "This is cov(y,y): 35.6\n",
      "This is cov(z,z): 0.0\n"
     ]
    }
   ],
   "source": [
    "import numpy as np\n",
    "import pandas as pd\n",
    "\n",
    "# df = pd.read_csv('drug-use-by-age.csv')\n",
    "# print(df['age'])\n",
    "\n",
    "# keep getting error that file is not found. I manually input the data.\n",
    "# the 4 subjects are the ages: 12, 13, 14, 15\n",
    "# x = alcohol use, y = marijuana use, z = cocaine use\n",
    "\n",
    "\n",
    "def cov_matrix_calculation(data):\n",
    "    cov_matrix = np.cov(data.T)\n",
    "    cov_matrix_rounded = np.around(cov_matrix, decimals = 1)\n",
    "    \n",
    "    return cov_matrix_rounded\n",
    "\n",
    "\n",
    "dataset_one = np.array([[3.9, 1.1, 0.1], [8.5, 3.4, 0.1], [18.1, 8.7, 0.1], [29.2, 14.5, 0.5]])\n",
    "print(\"Matrix of data: \\n\" + str(dataset_one) + \"\\n\")\n",
    "print(\"Covariance: \\n\" + str(cov_matrix_calculation(dataset_one)) + \"\\n\")\n",
    "\n",
    "print(\"This is the x column: \" + str(x_column)) # prints out the x column \n",
    "\n",
    "print(\"This is cov(x,x): \" + str(cov_matrix_calculation(dataset_one)[0,0])) # prints out cov(x, x)\n",
    "print(\"This is cov(y,y): \" + str(cov_matrix_calculation(dataset_one)[1,1])) # prints out cov(y,y)\n",
    "print(\"This is cov(z,z): \" + str(cov_matrix_calculation(dataset_one)[2,2])) #prints out cov(z,z)"
   ]
  },
  {
   "cell_type": "code",
   "execution_count": 109,
   "metadata": {},
   "outputs": [
    {
     "name": "stdout",
     "output_type": "stream",
     "text": [
      "14.925\n",
      "94.171875\n",
      "26.721874999999997\n",
      "0.03\n"
     ]
    }
   ],
   "source": [
    "twelve_yr_old = [3.9, 1.1, 0.1]\n",
    "thirteen_yr_old = [8.5, 3.4, 0.1]\n",
    "fourteen_yr_old = [18.1, 8.7, 0.1]\n",
    "fifteen_yr_old = [29.2, 14.5, 0.5]\n",
    "\n",
    "x = [3.9, 8.5, 18.1, 29.2]\n",
    "y = [1.1, 3.4, 8.7, 14.5]\n",
    "z = [0.1, 0.1, 0.1, 0.5]\n",
    "\n",
    "x_mean = np.mean(x) # expected 14.925\n",
    "\n",
    "x_var = np.var(x) # expected 125.6\n",
    "y_var = np.var(y) # expected 35.6\n",
    "z_var = np.var(z) # expected \n",
    "\n",
    "\n",
    "print(x_mean)\n",
    "print(x_var)\n",
    "print(y_var)\n",
    "print(z_var)\n",
    "\n",
    "\n",
    "# NOTE: I'm not sure why the variance is not being calculated correctly here. I did the calculations by hand\n",
    "# they came out as expected, not as printed below. "
   ]
  },
  {
   "cell_type": "markdown",
   "metadata": {},
   "source": [
    "## Turning In Your HW\n",
    "\n",
    "Once you have finished your assignment, provide a link to your repo on GitHub and place the link in the appropriate `HW1` column in the [progress tracker](https://docs.google.com/spreadsheets/d/1bJ959aAhQbuJBA_vL1uinDgcEM6k7uROHLg_Wh5Ac2Y/edit?usp=sharing)"
   ]
  }
 ],
 "metadata": {
  "kernelspec": {
   "display_name": "Python 3",
   "language": "python",
   "name": "python3"
  },
  "language_info": {
   "codemirror_mode": {
    "name": "ipython",
    "version": 3
   },
   "file_extension": ".py",
   "mimetype": "text/x-python",
   "name": "python",
   "nbconvert_exporter": "python",
   "pygments_lexer": "ipython3",
   "version": "3.7.4"
  }
 },
 "nbformat": 4,
 "nbformat_minor": 2
}
